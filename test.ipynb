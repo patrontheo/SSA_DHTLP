{
 "cells": [
  {
   "cell_type": "code",
   "execution_count": 6,
   "metadata": {},
   "outputs": [],
   "source": [
    "from scipy.io import loadmat\n",
    "mat = loadmat('vote_index_128_128_3_1.mat')"
   ]
  },
  {
   "cell_type": "code",
   "execution_count": 5,
   "metadata": {},
   "outputs": [
    {
     "data": {
      "text/plain": [
       "(128, 128, 182, 60)"
      ]
     },
     "execution_count": 5,
     "metadata": {},
     "output_type": "execute_result"
    }
   ],
   "source": [
    "mat['vote_index'].shape"
   ]
  },
  {
   "cell_type": "code",
   "execution_count": 27,
   "metadata": {},
   "outputs": [],
   "source": [
    "#test if processed dataset and downloaded processed dataset are the same\n",
    "import os\n",
    "import numpy as np\n",
    "\n",
    "for root, dirs, files in os.walk('data/test_wireframe/train'):\n",
    "    for name in files:\n",
    "        if name.endswith('.npz'):\n",
    "            data = np.load(os.path.join(root,name))\n",
    "            data2 = np.load(os.path.join('data/wireframe/train',name))\n",
    "            for k in data.files:\n",
    "                if k != 'aspect_ratio':\n",
    "                    if(not (data[k] == data2[k]).all()):\n",
    "                        print('Noo')"
   ]
  },
  {
   "cell_type": "code",
   "execution_count": null,
   "metadata": {},
   "outputs": [
    {
     "ename": "",
     "evalue": "",
     "output_type": "error",
     "traceback": [
      "\u001b[1;31mFailed to start the Kernel. \n",
      "spawn /conda ENOENT. \n",
      "View Jupyter <a href='command:jupyter.viewOutput'>log</a> for further details."
     ]
    }
   ],
   "source": [
    "import torch\n",
    "torch.cuda.is_available()"
   ]
  },
  {
   "cell_type": "code",
   "execution_count": null,
   "metadata": {},
   "outputs": [],
   "source": []
  }
 ],
 "metadata": {
  "interpreter": {
   "hash": "caa53fbedca5457a5a6953a562b07e33491090de8aa1f3e67830c09e2c26fc21"
  },
  "kernelspec": {
   "display_name": "Python 3.8.12 ('ssa_theo')",
   "language": "python",
   "name": "python3"
  },
  "language_info": {
   "codemirror_mode": {
    "name": "ipython",
    "version": 3
   },
   "file_extension": ".py",
   "mimetype": "text/x-python",
   "name": "python",
   "nbconvert_exporter": "python",
   "pygments_lexer": "ipython3",
   "version": "3.8.12"
  },
  "orig_nbformat": 4
 },
 "nbformat": 4,
 "nbformat_minor": 2
}
